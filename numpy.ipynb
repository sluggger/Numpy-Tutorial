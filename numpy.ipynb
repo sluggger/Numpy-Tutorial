{
 "cells": [
  {
   "cell_type": "code",
   "execution_count": 20,
   "metadata": {},
   "outputs": [],
   "source": [
    "import numpy as np"
   ]
  },
  {
   "cell_type": "code",
   "execution_count": 21,
   "metadata": {},
   "outputs": [],
   "source": [
    "#numpy.array(object, dtype = None, copy = True, order = None, subok = False, ndmin = 0) \n",
    "a = np.array([1, 2, 3]) \n",
    "b = np.array([[1, 2, 3], [4, 5, 6]]) \n",
    "c = np.array([5,8,2], complex)"
   ]
  },
  {
   "cell_type": "code",
   "execution_count": 23,
   "metadata": {},
   "outputs": [
    {
     "name": "stdout",
     "output_type": "stream",
     "text": [
      "[1 2 3]\n",
      "[[1 2 3]\n",
      " [4 5 6]]\n",
      "[5.+0.j 8.+0.j 2.+0.j]\n"
     ]
    }
   ],
   "source": [
    "print(a)\n",
    "print(b)\n",
    "print(c)"
   ]
  },
  {
   "cell_type": "code",
   "execution_count": 24,
   "metadata": {},
   "outputs": [
    {
     "data": {
      "text/plain": [
       "2"
      ]
     },
     "execution_count": 24,
     "metadata": {},
     "output_type": "execute_result"
    }
   ],
   "source": [
    "arr = np.array([[1, 2, 3, 4], [4, 5, 6, 7], [9, 10, 11, 23]])  \n",
    "arr.ndim #The ndim function can be used to find the dimensions of the array."
   ]
  },
  {
   "cell_type": "code",
   "execution_count": 25,
   "metadata": {},
   "outputs": [
    {
     "name": "stdout",
     "output_type": "stream",
     "text": [
      "Each item contains 4 bytes\n"
     ]
    }
   ],
   "source": [
    "#itemsize helps finding the size of each item in the array   \n",
    "d = np.array([[1,2,3]])  \n",
    "print(\"Each item contains\",d.itemsize,\"bytes\")  "
   ]
  },
  {
   "cell_type": "code",
   "execution_count": 26,
   "metadata": {},
   "outputs": [
    {
     "name": "stdout",
     "output_type": "stream",
     "text": [
      "Each item is of the type int32\n"
     ]
    }
   ],
   "source": [
    "#dtype helps finding the data type of each array item  \n",
    "e = np.array([[1,2,3]])  \n",
    "print(\"Each item is of the type\",e.dtype) "
   ]
  },
  {
   "cell_type": "code",
   "execution_count": 28,
   "metadata": {},
   "outputs": [
    {
     "name": "stdout",
     "output_type": "stream",
     "text": [
      "Array Size: 8\n",
      "Shape: (2, 4)\n"
     ]
    }
   ],
   "source": [
    "f = np.array([[1,2,3,4],[5,6,7,8]])  \n",
    "print(\"Array Size:\",f.size)  \n",
    "print(\"Shape:\",f.shape) #shape(rows, columns)"
   ]
  },
  {
   "cell_type": "code",
   "execution_count": 29,
   "metadata": {},
   "outputs": [
    {
     "name": "stdout",
     "output_type": "stream",
     "text": [
      "printing the original array..\n",
      "[[1 2]\n",
      " [3 4]\n",
      " [5 6]]\n",
      "printing the reshaped array..\n",
      "[[1 2 3]\n",
      " [4 5 6]]\n"
     ]
    }
   ],
   "source": [
    "g = np.array([[1,2],[3,4],[5,6]])  \n",
    "print(\"printing the original array..\")  \n",
    "print(g)  \n",
    "g=g.reshape(2,3)  \n",
    "print(\"printing the reshaped array..\")  \n",
    "print(g)  "
   ]
  },
  {
   "cell_type": "code",
   "execution_count": 31,
   "metadata": {},
   "outputs": [
    {
     "name": "stdout",
     "output_type": "stream",
     "text": [
      "2\n",
      "5\n"
     ]
    }
   ],
   "source": [
    "a = np.array([[1,2],[3,4],[5,6]])  \n",
    "print(a[0,1])#2nd element from the 0th index\n",
    "print(a[2,0])#0th element from the 2nd index"
   ]
  },
  {
   "cell_type": "code",
   "execution_count": 33,
   "metadata": {},
   "outputs": [
    {
     "name": "stdout",
     "output_type": "stream",
     "text": [
      "[ 5.          9.44444444 13.88888889 18.33333333 22.77777778 27.22222222\n",
      " 31.66666667 36.11111111 40.55555556 45.        ]\n"
     ]
    }
   ],
   "source": [
    "a=np.linspace(5,45,10) #prints 10 values which are evenly spaced over the given interval 5-15  \n",
    "print(a) "
   ]
  },
  {
   "cell_type": "code",
   "execution_count": 34,
   "metadata": {},
   "outputs": [
    {
     "name": "stdout",
     "output_type": "stream",
     "text": [
      "The array: [ 1  2  3 10 15  4]\n",
      "The maximum element: 15\n",
      "The minimum element: 1\n",
      "The sum of the elements: 35\n"
     ]
    }
   ],
   "source": [
    "a = np.array([1,2,3,10,15,4])  \n",
    "print(\"The array:\",a)  \n",
    "print(\"The maximum element:\",a.max())  \n",
    "print(\"The minimum element:\",a.min())  \n",
    "print(\"The sum of the elements:\",a.sum())  "
   ]
  },
  {
   "cell_type": "code",
   "execution_count": 35,
   "metadata": {},
   "outputs": [
    {
     "name": "stdout",
     "output_type": "stream",
     "text": [
      "The array: [[ 1  2 30]\n",
      " [10 15  4]]\n",
      "The maximum elements of columns: [10 15 30]\n",
      "The minimum element of rows [1 4]\n",
      "The sum of all rows [33 29]\n"
     ]
    }
   ],
   "source": [
    "#A multi-dimensional array is represented by the axis where axis-0 represents the columns and axis-1 represents the rows\n",
    "a = np.array([[1,2,30],[10,15,4]])  \n",
    "print(\"The array:\",a)  \n",
    "print(\"The maximum elements of columns:\",a.max(axis = 0))   \n",
    "print(\"The minimum element of rows\",a.min(axis = 1))  \n",
    "print(\"The sum of all rows\",a.sum(axis = 1))  "
   ]
  },
  {
   "cell_type": "code",
   "execution_count": 36,
   "metadata": {},
   "outputs": [
    {
     "name": "stdout",
     "output_type": "stream",
     "text": [
      "[[1.         1.41421356 5.47722558]\n",
      " [3.16227766 3.87298335 2.        ]]\n",
      "10.044346115546242\n"
     ]
    }
   ],
   "source": [
    "#The sqrt() and std() functions associated with the numpy array are used to find the square root and standard deviation of the array elements respectively.\n",
    "a = np.array([[1,2,30],[10,15,4]])  \n",
    "print(np.sqrt(a))  \n",
    "print(np.std(a))  "
   ]
  },
  {
   "cell_type": "code",
   "execution_count": 37,
   "metadata": {},
   "outputs": [
    {
     "name": "stdout",
     "output_type": "stream",
     "text": [
      "Sum of array a and b\n",
      " [[ 2  4 33]\n",
      " [22 34 33]]\n",
      "Product of array a and b\n",
      " [[  1   4  90]\n",
      " [120 285 116]]\n",
      "Division of array a and b\n",
      " [[ 1.          1.         10.        ]\n",
      " [ 0.83333333  0.78947368  0.13793103]]\n"
     ]
    }
   ],
   "source": [
    "#The numpy module allows us to perform the arithmetic operations on multi-dimensional arrays directly.\n",
    "a = np.array([[1,2,30],[10,15,4]])  \n",
    "b = np.array([[1,2,3],[12, 19, 29]])  \n",
    "print(\"Sum of array a and b\\n\",a+b)  \n",
    "print(\"Product of array a and b\\n\",a*b)  \n",
    "print(\"Division of array a and b\\n\",a/b)  "
   ]
  },
  {
   "cell_type": "code",
   "execution_count": 38,
   "metadata": {},
   "outputs": [
    {
     "name": "stdout",
     "output_type": "stream",
     "text": [
      "Arrays vertically concatenated\n",
      " [[ 1  2 30]\n",
      " [10 15  4]\n",
      " [ 1  2  3]\n",
      " [12 19 29]]\n",
      "Arrays horizontally concatenated\n",
      " [[ 1  2 30  1  2  3]\n",
      " [10 15  4 12 19 29]]\n"
     ]
    }
   ],
   "source": [
    "#vertical stacking and horizontal stacking which allows us to concatenate two multi-dimensional arrays vertically or horizontally.\n",
    "a = np.array([[1,2,30],[10,15,4]])  \n",
    "b = np.array([[1,2,3],[12, 19, 29]])  \n",
    "print(\"Arrays vertically concatenated\\n\",np.vstack((a,b)));  \n",
    "print(\"Arrays horizontally concatenated\\n\",np.hstack((a,b)))  "
   ]
  },
  {
   "cell_type": "code",
   "execution_count": 39,
   "metadata": {},
   "outputs": [
    {
     "name": "stdout",
     "output_type": "stream",
     "text": [
      "int32\n"
     ]
    }
   ],
   "source": [
    "#numpy.dtype(object, align, copy) \n",
    "d = np.dtype(np.int32)  \n",
    "print(d) "
   ]
  },
  {
   "cell_type": "code",
   "execution_count": 42,
   "metadata": {
    "tags": []
   },
   "outputs": [
    {
     "name": "stdout",
     "output_type": "stream",
     "text": [
      "[('salary', '<f8')]\n",
      "[10000.12 20000.5 ]\n"
     ]
    },
    {
     "name": "stderr",
     "output_type": "stream",
     "text": [
      "C:\\Users\\İbrahim\\AppData\\Local\\Temp\\ipykernel_1096\\1407920270.py:2: DeprecationWarning: `np.float` is a deprecated alias for the builtin `float`. To silence this warning, use `float` by itself. Doing this will not modify any behavior and is safe. If you specifically wanted the numpy scalar type, use `np.float64` here.\n",
      "Deprecated in NumPy 1.20; for more details and guidance: https://numpy.org/devdocs/release/1.20.0-notes.html#deprecations\n",
      "  d = np.dtype([('salary',np.float)])\n",
      "C:\\Users\\İbrahim\\AppData\\Local\\Temp\\ipykernel_1096\\1407920270.py:4: DeprecationWarning: `np.float` is a deprecated alias for the builtin `float`. To silence this warning, use `float` by itself. Doing this will not modify any behavior and is safe. If you specifically wanted the numpy scalar type, use `np.float64` here.\n",
      "Deprecated in NumPy 1.20; for more details and guidance: https://numpy.org/devdocs/release/1.20.0-notes.html#deprecations\n",
      "  d=np.dtype([('salary',np.float)])\n"
     ]
    }
   ],
   "source": [
    "#a map-like (dictionary) data type which contains the mapping between the values.\n",
    "d = np.dtype([('salary',np.float)])  \n",
    "print(d)  \n",
    "d=np.dtype([('salary',np.float)])  \n",
    "arr = np.array([(10000.12,),(20000.50,)],dtype=d)  \n",
    "print(arr['salary'])"
   ]
  },
  {
   "cell_type": "code",
   "execution_count": 44,
   "metadata": {},
   "outputs": [
    {
     "name": "stdout",
     "output_type": "stream",
     "text": [
      "[[ 1  2]\n",
      " [ 3 12]\n",
      " [19 29]]\n"
     ]
    }
   ],
   "source": [
    "#The empty routine is used to create an uninitialized array of specified shape and data type.\n",
    "#np.empty(shape, dtype = float, order = 'C')\n",
    "array = np.empty((3,2), dtype = int)  \n",
    "print(array)    "
   ]
  },
  {
   "cell_type": "code",
   "execution_count": 45,
   "metadata": {},
   "outputs": [
    {
     "name": "stdout",
     "output_type": "stream",
     "text": [
      "[[0 0 0 0 0 0 0]\n",
      " [0 0 0 0 0 0 0]\n",
      " [0 0 0 0 0 0 0]\n",
      " [0 0 0 0 0 0 0]\n",
      " [0 0 0 0 0 0 0]\n",
      " [0 0 0 0 0 0 0]]\n"
     ]
    }
   ],
   "source": [
    "#numpy array with the specified shape where each numpy array item is initialized to 0.\n",
    "#numpy.zeros(shape, dtype = float, order = 'C')\n",
    "array = np.zeros((6,7), dtype = int)  \n",
    "print(array)  "
   ]
  },
  {
   "cell_type": "code",
   "execution_count": 47,
   "metadata": {},
   "outputs": [
    {
     "name": "stdout",
     "output_type": "stream",
     "text": [
      "[[1 1 1 1 1]\n",
      " [1 1 1 1 1]\n",
      " [1 1 1 1 1]\n",
      " [1 1 1 1 1]\n",
      " [1 1 1 1 1]]\n"
     ]
    }
   ],
   "source": [
    "#create the numpy array with the specified shape where each numpy array item is initialized to 1\n",
    "#numpy.ones(shape, dtype = none, order = 'C')  \n",
    "ar = np.ones((5,5), dtype = int)  \n",
    "print(ar)  "
   ]
  },
  {
   "cell_type": "code",
   "execution_count": 49,
   "metadata": {},
   "outputs": [
    {
     "name": "stdout",
     "output_type": "stream",
     "text": [
      "<class 'numpy.ndarray'>\n",
      "[[ 1  2  3]\n",
      " [ 8  9 10]]\n"
     ]
    }
   ],
   "source": [
    "#create an array by using the existing data in the form of lists, or tuples.\n",
    "#numpy.asarray(sequence,  dtype = None, order = None)\n",
    "l=[[1,2,3],[8,9,10]] \n",
    "a = np.asarray(l);  \n",
    "print(type(a))  \n",
    "print(a)  "
   ]
  },
  {
   "cell_type": "code",
   "execution_count": 51,
   "metadata": {},
   "outputs": [
    {
     "name": "stdout",
     "output_type": "stream",
     "text": [
      "<class 'bytes'>\n",
      "[b'h' b'e' b'l' b'l' b'o' b' ' b'w' b'o' b'r' b'l' b'd']\n",
      "<class 'numpy.ndarray'>\n"
     ]
    }
   ],
   "source": [
    "#create an array by using the specified buffer.\n",
    "#numpy.frombuffer(buffer, dtype = float, count = -1, offset = 0)\n",
    "l = b'hello world'  \n",
    "print(type(l))  \n",
    "a = np.frombuffer(l, dtype = \"S1\")  \n",
    "print(a)  \n",
    "print(type(a))  "
   ]
  },
  {
   "cell_type": "code",
   "execution_count": 53,
   "metadata": {},
   "outputs": [
    {
     "name": "stdout",
     "output_type": "stream",
     "text": [
      "[0. 2. 4. 6.]\n",
      "<class 'numpy.ndarray'>\n"
     ]
    }
   ],
   "source": [
    "#create a ndarray by using an iterable object. It returns a one-dimensional ndarray object.\n",
    "#numpy.fromiter(iterable, dtype, count = - 1)  \n",
    "list = [0,2,4,6]  \n",
    "it = iter(list)  \n",
    "x = np.fromiter(it, dtype = float)  \n",
    "print(x)  \n",
    "print(type(x))  "
   ]
  },
  {
   "cell_type": "code",
   "execution_count": 54,
   "metadata": {},
   "outputs": [
    {
     "name": "stdout",
     "output_type": "stream",
     "text": [
      "[6. 8.]\n"
     ]
    }
   ],
   "source": [
    "#create an array by using the evenly spaced values over the given interval.\n",
    "#numpy.arrange(start, stop, step, dtype)\n",
    "arr = np.arange(6,10,2,float)  \n",
    "print(arr)    "
   ]
  },
  {
   "cell_type": "code",
   "execution_count": 55,
   "metadata": {},
   "outputs": [
    {
     "name": "stdout",
     "output_type": "stream",
     "text": [
      "The array over the given range is  [10.  12.5 15.  17.5 20. ]\n"
     ]
    }
   ],
   "source": [
    "#returns evenly separated values fo an array over a specified period.\n",
    "#numpy.linspace(start, stop, num, endpoint(bool), retstep(bool), dtype)  \n",
    "arr = np.linspace(10, 20, 5)  \n",
    "print(\"The array over the given range is \",arr)  "
   ]
  },
  {
   "cell_type": "code",
   "execution_count": 56,
   "metadata": {},
   "outputs": [
    {
     "name": "stdout",
     "output_type": "stream",
     "text": [
      "The array over the given range is  [1.00000000e+10 3.16227766e+12 1.00000000e+15 3.16227766e+17\n",
      " 1.00000000e+20]\n"
     ]
    }
   ],
   "source": [
    "#creates an array by using the numbers that are evenly separated on a log scale.\n",
    "#numpy.logspace(start, stop, num, endpoint(bool), base(bool), dtype)  \n",
    "arr = np.logspace(10, 20, num = 5, endpoint = True)  \n",
    "print(\"The array over the given range is \",arr)  "
   ]
  },
  {
   "cell_type": "code",
   "execution_count": 57,
   "metadata": {},
   "outputs": [
    {
     "name": "stdout",
     "output_type": "stream",
     "text": [
      "\n",
      "printing array a..\n",
      "[[ 1  2  3  4]\n",
      " [ 2  4  5  6]\n",
      " [10 20 39  3]]\n",
      "\n",
      "printing array b..\n",
      "[2 4 6 8]\n",
      "\n",
      "Adding arrays a and b ..\n",
      "[[ 3  6  9 12]\n",
      " [ 4  8 11 14]\n",
      " [12 24 45 11]]\n"
     ]
    }
   ],
   "source": [
    "#numpy broadcasting - streches the smaller array with its values\n",
    "a = np.array([[1,2,3,4],[2,4,5,6],[10,20,39,3]])  \n",
    "b = np.array([2,4,6,8])  \n",
    "print(\"\\nprinting array a..\")  \n",
    "print(a)  \n",
    "print(\"\\nprinting array b..\")  \n",
    "print(b)  \n",
    "print(\"\\nAdding arrays a and b ..\")  \n",
    "c = a + b;  \n",
    "print(c) "
   ]
  },
  {
   "cell_type": "code",
   "execution_count": 59,
   "metadata": {},
   "outputs": [
    {
     "name": "stdout",
     "output_type": "stream",
     "text": [
      "Printing array:\n",
      "[[ 1  2  3  4]\n",
      " [ 2  4  5  6]\n",
      " [10 20 39  3]]\n",
      "Iterating over the array:\n",
      "1 2 3 4 2 4 5 6 10 20 39 3 "
     ]
    }
   ],
   "source": [
    "#iterate over the given array using python standard Iterator interface.\n",
    "a = np.array([[1,2,3,4],[2,4,5,6],[10,20,39,3]])  \n",
    "print(\"Printing array:\")  \n",
    "print(a);  \n",
    "print(\"Iterating over the array:\")  \n",
    "for x in np.nditer(a):  \n",
    "    print(x,end=' ')  \n",
    "#Order of the iteration doesn't follow any special ordering like row-major or column-order. However, it is intended to match the memory layout of the array."
   ]
  },
  {
   "cell_type": "code",
   "execution_count": 60,
   "metadata": {},
   "outputs": [
    {
     "name": "stdout",
     "output_type": "stream",
     "text": [
      "binary representation of a: 0b1010\n",
      "binary representation of b: 0b1100\n",
      "Bitwise-and of a and b:  8\n"
     ]
    }
   ],
   "source": [
    "#The bitwise and operation is performed on the corresponding bits of the binary representation of the operands.\n",
    "a = 10  \n",
    "b = 12  \n",
    "print(\"binary representation of a:\",bin(a))  \n",
    "print(\"binary representation of b:\",bin(b))  \n",
    "print(\"Bitwise-and of a and b: \",np.bitwise_and(a,b))  "
   ]
  },
  {
   "cell_type": "code",
   "execution_count": 64,
   "metadata": {},
   "outputs": [
    {
     "name": "stdout",
     "output_type": "stream",
     "text": [
      "binary representation of a: 0b100\n",
      "binary representation of b: 0b10\n",
      "Bitwise-or of a and b:  6\n"
     ]
    }
   ],
   "source": [
    "a = 4\n",
    "b = 2\n",
    "print(\"binary representation of a:\",bin(a))  \n",
    "print(\"binary representation of b:\",bin(b))  \n",
    "print(\"Bitwise-or of a and b: \",np.bitwise_or(a,b)) "
   ]
  },
  {
   "cell_type": "code",
   "execution_count": 65,
   "metadata": {},
   "outputs": [
    {
     "name": "stdout",
     "output_type": "stream",
     "text": [
      "Binary representation: 00010100\n",
      "[235]\n",
      "Binary representation:  11101011\n"
     ]
    }
   ],
   "source": [
    "#It is used to calculate the bitwise not the operation of the given operand. The 2's complement is returned if the signed integer is passed in the function.\n",
    "arr = np.array([20],dtype = np.uint8)  \n",
    "print(\"Binary representation:\",np.binary_repr(20,8))  \n",
    "print(np.invert(arr))  \n",
    "print(\"Binary representation: \", np.binary_repr(235,8))  "
   ]
  },
  {
   "cell_type": "code",
   "execution_count": 66,
   "metadata": {},
   "outputs": [
    {
     "name": "stdout",
     "output_type": "stream",
     "text": [
      "left shift of 20 by 3 bits 160\n",
      "Binary representation of 20 in 8 bits 00010100\n",
      "Binary representation of 160 in 8 bits 10100000\n"
     ]
    }
   ],
   "source": [
    "#It shifts the bits in the binary representation of the operand to the left by the specified position. An equal number of 0s are appended from the right.\n",
    "print(\"left shift of 20 by 3 bits\",np.left_shift(20, 3))  \n",
    "print(\"Binary representation of 20 in 8 bits\",np.binary_repr(20, 8))   \n",
    "print(\"Binary representation of 160 in 8 bits\",np.binary_repr(160,8))  "
   ]
  },
  {
   "cell_type": "code",
   "execution_count": 67,
   "metadata": {},
   "outputs": [
    {
     "name": "stdout",
     "output_type": "stream",
     "text": [
      "Concatenating two string arrays:\n",
      "['welcome to Javatpoint' 'Hi read python']\n"
     ]
    }
   ],
   "source": [
    "#numpy.char.add() method example \n",
    "print(\"Concatenating two string arrays:\")  \n",
    "print(np.char.add(['welcome','Hi'], [' to Javatpoint', ' read python'] ))"
   ]
  },
  {
   "cell_type": "code",
   "execution_count": 68,
   "metadata": {},
   "outputs": [
    {
     "name": "stdout",
     "output_type": "stream",
     "text": [
      "Printing a string multiple times:\n",
      "hello hello hello \n"
     ]
    }
   ],
   "source": [
    "#numpy.char.multiply() method example\n",
    "print(\"Printing a string multiple times:\")  \n",
    "print(np.char.multiply(\"hello \",3))  "
   ]
  },
  {
   "cell_type": "code",
   "execution_count": 69,
   "metadata": {},
   "outputs": [
    {
     "name": "stdout",
     "output_type": "stream",
     "text": [
      "Padding the string through left and right with the fill char *\n",
      "*****Javatpoint*****\n"
     ]
    }
   ],
   "source": [
    "#numpy.char.center() method example\n",
    "print(\"Padding the string through left and right with the fill char *\");  \n",
    "#np.char.center(string, width, fillchar)  \n",
    "print(np.char.center(\"Javatpoint\", 20, '*'))  "
   ]
  },
  {
   "cell_type": "code",
   "execution_count": 70,
   "metadata": {},
   "outputs": [
    {
     "name": "stdout",
     "output_type": "stream",
     "text": [
      "M:e:r:h:a:b:a:l:a:r\n"
     ]
    }
   ],
   "source": [
    "#capitalize(),title(),lower(),upper(),split(),splitlines(),strip(),join()\n",
    "print(np.char.join(':','Merhabalar'))  "
   ]
  },
  {
   "cell_type": "code",
   "execution_count": 71,
   "metadata": {},
   "outputs": [
    {
     "name": "stdout",
     "output_type": "stream",
     "text": [
      "Original String: Welcome to Javatpoint\n",
      "Modified String: www. Javatpoint\n"
     ]
    }
   ],
   "source": [
    "str = \"Welcome to Javatpoint\"  \n",
    "print(\"Original String:\",str)  \n",
    "print(\"Modified String:\",end=\" \")  \n",
    "print(np.char.replace(str, \"Welcome to\",\"www.\"))"
   ]
  },
  {
   "cell_type": "code",
   "execution_count": 72,
   "metadata": {},
   "outputs": [
    {
     "name": "stdout",
     "output_type": "stream",
     "text": [
      "b'\\xa6\\x85\\x93\\x83\\x96\\x94\\x85@\\xa3\\x96@\\x91\\x81\\xa5\\x81\\xa3\\x97\\x96\\x89\\x95\\xa3'\n",
      "welcome to javatpoint\n"
     ]
    }
   ],
   "source": [
    "enstr = np.char.encode(\"welcome to javatpoint\", 'cp500')  \n",
    "dstr =np.char.decode(enstr, 'cp500')  \n",
    "print(enstr)  \n",
    "print(dstr)  "
   ]
  },
  {
   "cell_type": "code",
   "execution_count": 73,
   "metadata": {},
   "outputs": [
    {
     "name": "stdout",
     "output_type": "stream",
     "text": [
      "\n",
      "The sin value of the angles [0.00000000e+00 5.00000000e-01 8.66025404e-01 1.00000000e+00\n",
      " 8.66025404e-01 5.00000000e-01 1.22464680e-16]\n",
      "\n",
      "The cosine value of the angles [ 1.00000000e+00  8.66025404e-01  5.00000000e-01  6.12323400e-17\n",
      " -5.00000000e-01 -8.66025404e-01 -1.00000000e+00]\n",
      "\n",
      "The tangent value of the angles [ 0.00000000e+00  5.77350269e-01  1.73205081e+00  1.63312394e+16\n",
      " -1.73205081e+00 -5.77350269e-01 -1.22464680e-16]\n"
     ]
    }
   ],
   "source": [
    "#Trigonometric functions\n",
    "arr = np.array([0, 30, 60, 90, 120, 150, 180])  \n",
    "print(\"\\nThe sin value of the angles\",end = \" \")  \n",
    "print(np.sin(arr * np.pi/180))  \n",
    "print(\"\\nThe cosine value of the angles\",end = \" \")  \n",
    "print(np.cos(arr * np.pi/180))  \n",
    "print(\"\\nThe tangent value of the angles\",end = \" \")  \n",
    "print(np.tan(arr * np.pi/180)) \n",
    "#also arcsin(), arccos(), and arctan() functions return the trigonometric inverse of the specified angles."
   ]
  },
  {
   "cell_type": "code",
   "execution_count": 74,
   "metadata": {},
   "outputs": [
    {
     "name": "stdout",
     "output_type": "stream",
     "text": [
      "printing the original array values: [ 12.202   90.2312 123.02    23.202 ]\n",
      "Array values rounded off to 2 decimal position [ 12.2   90.23 123.02  23.2 ]\n",
      "Array values rounded off to -1 decimal position [ 10.  90. 120.  20.]\n"
     ]
    }
   ],
   "source": [
    "#This function returns a decimal value rounded to a desired position of the decimal.\n",
    "#numpy.around(num, decimals) \n",
    "arr = np.array([12.202, 90.23120, 123.020, 23.202])  \n",
    "print(\"printing the original array values:\",end = \" \")  \n",
    "print(arr)  \n",
    "print(\"Array values rounded off to 2 decimal position\",np.around(arr, 2))  \n",
    "print(\"Array values rounded off to -1 decimal position\",np.around(arr, -1))  "
   ]
  },
  {
   "cell_type": "code",
   "execution_count": 76,
   "metadata": {},
   "outputs": [
    {
     "name": "stdout",
     "output_type": "stream",
     "text": [
      "[ 12.  90. 123.  23.]\n"
     ]
    }
   ],
   "source": [
    "#This function is used to return the floor value of the input data which is the largest integer not greater than the input value.\n",
    "arr = np.array([12.202, 90.83120, 123.020, 23.202])  \n",
    "print(np.floor(arr))  "
   ]
  },
  {
   "cell_type": "code",
   "execution_count": 77,
   "metadata": {},
   "outputs": [
    {
     "name": "stdout",
     "output_type": "stream",
     "text": [
      "[ 13.  91. 124.  24.]\n"
     ]
    }
   ],
   "source": [
    "#this function is used to return the ceiling value of the array values which is the smallest integer value greater than the array element.\n",
    "arr = np.array([12.202, 90.23120, 123.020, 23.202])  \n",
    "print(np.ceil(arr)) "
   ]
  },
  {
   "cell_type": "code",
   "execution_count": 78,
   "metadata": {},
   "outputs": [
    {
     "name": "stdout",
     "output_type": "stream",
     "text": [
      "The original array:\n",
      "\n",
      "[[ 2 10 20]\n",
      " [80 43 31]\n",
      " [22 43 10]]\n",
      "\n",
      "The minimum element among the array: 2\n",
      "The maximum element among the array: 80\n",
      "\n",
      "The minimum element among the rows of array [ 2 10 10]\n",
      "The maximum element among the rows of array [80 43 31]\n",
      "\n",
      "The minimum element among the columns of array [ 2 31 10]\n",
      "The maximum element among the columns of array [20 80 43]\n"
     ]
    }
   ],
   "source": [
    "#The numpy.amin() and numpy.amax() functions are used to find the minimum and maximum of the array elements along the specified axis respectively.\n",
    "a = np.array([[2,10,20],[80,43,31],[22,43,10]])  \n",
    "  \n",
    "print(\"The original array:\\n\")  \n",
    "print(a)  \n",
    "  \n",
    "print(\"\\nThe minimum element among the array:\",np.amin(a))  \n",
    "print(\"The maximum element among the array:\",np.amax(a))  \n",
    "  \n",
    "print(\"\\nThe minimum element among the rows of array\",np.amin(a,0))  \n",
    "print(\"The maximum element among the rows of array\",np.amax(a,0))  \n",
    "  \n",
    "print(\"\\nThe minimum element among the columns of array\",np.amin(a,1))  \n",
    "print(\"The maximum element among the columns of array\",np.amax(a,1)) "
   ]
  },
  {
   "cell_type": "code",
   "execution_count": 79,
   "metadata": {},
   "outputs": [
    {
     "name": "stdout",
     "output_type": "stream",
     "text": [
      "Original array:\n",
      " [[ 2 10 20]\n",
      " [80 43 31]\n",
      " [22 43 10]]\n",
      "\n",
      "ptp value along axis 1: [18 49 33]\n",
      "ptp value along axis 0: [78 33 21]\n"
     ]
    }
   ],
   "source": [
    "#return the range of values along an axis. - peak-to-peak\n",
    "a = np.array([[2,10,20],[80,43,31],[22,43,10]])  \n",
    "  \n",
    "print(\"Original array:\\n\",a)  \n",
    "print(\"\\nptp value along axis 1:\",np.ptp(a,1))  \n",
    "print(\"ptp value along axis 0:\",np.ptp(a,0))  "
   ]
  },
  {
   "cell_type": "code",
   "execution_count": 82,
   "metadata": {},
   "outputs": [
    {
     "name": "stdout",
     "output_type": "stream",
     "text": [
      "Array:\n",
      " [[ 2 48]\n",
      " [ 2  2]\n",
      " [ 2  2]]\n",
      "\n",
      "Percentile along axis 0 [2. 2.]\n",
      "Percentile along axis 1 [6.6 2.  2. ]\n"
     ]
    }
   ],
   "source": [
    "#numpy.percentile(input, q, axis)  \n",
    "a = np.array([[2,48],[2,2],[2,2]])  \n",
    "  \n",
    "print(\"Array:\\n\",a)    \n",
    "print(\"\\nPercentile along axis 0\",np.percentile(a, 10,0))   \n",
    "print(\"Percentile along axis 1\",np.percentile(a, 10, 1))  "
   ]
  },
  {
   "cell_type": "code",
   "execution_count": 83,
   "metadata": {},
   "outputs": [
    {
     "name": "stdout",
     "output_type": "stream",
     "text": [
      "Array:\n",
      " [[1 2 3]\n",
      " [4 5 6]\n",
      " [7 8 9]]\n",
      "\n",
      "Median of array along axis 0: [4. 5. 6.]\n",
      "Mean of array along axis 0: [4. 5. 6.]\n",
      "Average of array along axis 1: [2. 5. 8.]\n"
     ]
    }
   ],
   "source": [
    "#median, mean, avg functions\n",
    "a = np.array([[1,2,3],[4,5,6],[7,8,9]])  \n",
    "print(\"Array:\\n\",a)  \n",
    "  \n",
    "print(\"\\nMedian of array along axis 0:\",np.median(a,0))  \n",
    "print(\"Mean of array along axis 0:\",np.mean(a,0))  \n",
    "print(\"Average of array along axis 1:\",np.average(a,1)) "
   ]
  },
  {
   "cell_type": "code",
   "execution_count": 84,
   "metadata": {},
   "outputs": [
    {
     "name": "stdout",
     "output_type": "stream",
     "text": [
      "Sorting along the columns:\n",
      "[[ 2  3 10]\n",
      " [ 4  5  6]\n",
      " [ 7  8  9]]\n",
      "Sorting along the rows:\n",
      "[[ 4  2  3]\n",
      " [ 7  5  6]\n",
      " [10  8  9]]\n",
      "Sorting data ordered by name\n",
      "[(b'John', 251) (b'Mukesh', 200)]\n"
     ]
    }
   ],
   "source": [
    "#Sorting algorithm\n",
    "#numpy.sort(a, axis, kind, order)\n",
    "a = np.array([[10,2,3],[4,5,6],[7,8,9]])  \n",
    "  \n",
    "print(\"Sorting along the columns:\")  \n",
    "print(np.sort(a)) #(axis = 1) as default \n",
    "  \n",
    "print(\"Sorting along the rows:\")  \n",
    "print(np.sort(a, 0))  \n",
    "  \n",
    "data_type = np.dtype([('name', 'S10'),('marks',int)])  \n",
    "  \n",
    "arr = np.array([('Mukesh',200),('John',251)],dtype = data_type)  \n",
    "  \n",
    "print(\"Sorting data ordered by name\")  \n",
    "  \n",
    "print(np.sort(arr,order = 'name'))    "
   ]
  },
  {
   "cell_type": "code",
   "execution_count": 85,
   "metadata": {},
   "outputs": [
    {
     "name": "stdout",
     "output_type": "stream",
     "text": [
      "Original array:\n",
      " [90 29 89 12]\n",
      "Printing indices of sorted data\n",
      " [3 1 2 0]\n",
      "printing sorted array\n",
      "12 29 89 90 "
     ]
    }
   ],
   "source": [
    "#numpy.argsort() - it returns an array of indices of data which is used to construct the array of sorted data\n",
    "a = np.array([90, 29, 89, 12])  \n",
    "print(\"Original array:\\n\",a)  \n",
    "  \n",
    "sort_ind = np.argsort(a)  \n",
    "print(\"Printing indices of sorted data\\n\",sort_ind)  \n",
    "  \n",
    "sort_a = a[sort_ind]  \n",
    "print(\"printing sorted array\")  \n",
    "  \n",
    "for i in sort_ind:  \n",
    "    print(a[i],end = \" \")  "
   ]
  },
  {
   "cell_type": "code",
   "execution_count": 86,
   "metadata": {},
   "outputs": [
    {
     "name": "stdout",
     "output_type": "stream",
     "text": [
      "printing indices of sorted data\n",
      "[0 3 1 4 2]\n",
      "using the indices to sort the array\n",
      "a 12\n",
      "d 12\n",
      "b 90\n",
      "e 211\n",
      "c 380\n"
     ]
    }
   ],
   "source": [
    "#numpy.lexsort() _This function is used to sort the array using the sequence of keys indirectly.\n",
    "a = np.array(['a','b','c','d','e'])  \n",
    "b = np.array([12, 90, 380, 12, 211])  \n",
    "  \n",
    "ind = np.lexsort((a,b))  \n",
    "print(\"printing indices of sorted data\")  \n",
    "print(ind)  \n",
    "  \n",
    "print(\"using the indices to sort the array\")  \n",
    "for i in ind:  \n",
    "    print(a[i],b[i]) "
   ]
  },
  {
   "cell_type": "code",
   "execution_count": 87,
   "metadata": {},
   "outputs": [
    {
     "name": "stdout",
     "output_type": "stream",
     "text": [
      "printing original array [ 12  90 380  12 211]\n",
      "printing location of the non-zero elements\n",
      "(array([0, 1, 2, 3, 4], dtype=int64),)\n"
     ]
    }
   ],
   "source": [
    "#numpy.nonzero()\n",
    "#This function is used to find the location of the non-zero elements from the array.\n",
    "b = np.array([12, 90, 380, 12, 211])  \n",
    "print(\"printing original array\",b)  \n",
    "  \n",
    "print(\"printing location of the non-zero elements\")  \n",
    "print(b.nonzero())  "
   ]
  },
  {
   "cell_type": "code",
   "execution_count": 88,
   "metadata": {},
   "outputs": [
    {
     "name": "stdout",
     "output_type": "stream",
     "text": [
      "(array([1, 2, 4], dtype=int64),)\n",
      "(array([0, 1, 1], dtype=int64), array([1, 0, 1], dtype=int64))\n"
     ]
    }
   ],
   "source": [
    "#numpy.where() - This function is used to return the indices of all the elements which satisfies a particular condition.\n",
    "b = np.array([12, 90, 380, 12, 211])  \n",
    "print(np.where(b>12))  \n",
    "  \n",
    "c = np.array([[20, 24],[21, 23]])  \n",
    "print(np.where(c>20))  "
   ]
  },
  {
   "cell_type": "code",
   "execution_count": 89,
   "metadata": {},
   "outputs": [
    {
     "name": "stdout",
     "output_type": "stream",
     "text": [
      "Original Array:\n",
      " [[ 1  2  3  4]\n",
      " [ 9  0  2  3]\n",
      " [ 1  2  3 19]]\n",
      "\n",
      "ID of array a: 2565285347664\n",
      "\n",
      "making copy of the array a\n",
      "\n",
      "ID of b: 2565285347664\n",
      "\n",
      "Changes on b also reflect to a:\n",
      "[[ 1  2  3]\n",
      " [ 4  9  0]\n",
      " [ 2  3  1]\n",
      " [ 2  3 19]]\n"
     ]
    }
   ],
   "source": [
    "#Array assigment\n",
    "a = np.array([[1,2,3,4],[9,0,2,3],[1,2,3,19]])  \n",
    "print(\"Original Array:\\n\",a)  \n",
    "print(\"\\nID of array a:\",id(a))  \n",
    "  \n",
    "b = a   \n",
    "print(\"\\nmaking copy of the array a\")  \n",
    "print(\"\\nID of b:\",id(b))  \n",
    "  \n",
    "b.shape = 4,3;  \n",
    "print(\"\\nChanges on b also reflect to a:\")  \n",
    "print(a)  "
   ]
  },
  {
   "cell_type": "code",
   "execution_count": 90,
   "metadata": {},
   "outputs": [
    {
     "name": "stdout",
     "output_type": "stream",
     "text": [
      "Original Array:\n",
      " [[ 1  2  3  4]\n",
      " [ 9  0  2  3]\n",
      " [ 1  2  3 19]]\n",
      "\n",
      "ID of array a: 2565285215856\n",
      "\n",
      "ID of b: 2565285351024\n",
      "\n",
      "printing the view b\n",
      "[[ 1  2  3  4]\n",
      " [ 9  0  2  3]\n",
      " [ 1  2  3 19]]\n",
      "\n",
      "Changes made to the view b do not reflect a\n",
      "\n",
      "Original array \n",
      " [[ 1  2  3  4]\n",
      " [ 9  0  2  3]\n",
      " [ 1  2  3 19]]\n",
      "\n",
      "view\n",
      " [[ 1  2  3]\n",
      " [ 4  9  0]\n",
      " [ 2  3  1]\n",
      " [ 2  3 19]]\n"
     ]
    }
   ],
   "source": [
    "#ndarray.view() method\n",
    "#The ndarray.view() method returns the new array object which contains the same content as the original array does\n",
    "a = np.array([[1,2,3,4],[9,0,2,3],[1,2,3,19]])  \n",
    "print(\"Original Array:\\n\",a)  \n",
    "print(\"\\nID of array a:\",id(a))  \n",
    "  \n",
    "b = a.view()  \n",
    "print(\"\\nID of b:\",id(b))  \n",
    "print(\"\\nprinting the view b\")  \n",
    "print(b)  \n",
    "  \n",
    "b.shape = 4,3;  \n",
    "print(\"\\nChanges made to the view b do not reflect a\")  \n",
    "print(\"\\nOriginal array \\n\",a)  \n",
    "print(\"\\nview\\n\",b)  "
   ]
  },
  {
   "cell_type": "code",
   "execution_count": 91,
   "metadata": {},
   "outputs": [
    {
     "name": "stdout",
     "output_type": "stream",
     "text": [
      "Original Array:\n",
      " [[ 1  2  3  4]\n",
      " [ 9  0  2  3]\n",
      " [ 1  2  3 19]]\n",
      "\n",
      "ID of array a: 2565285308432\n",
      "\n",
      "ID of b: 2565285309104\n",
      "\n",
      "printing the deep copy b\n",
      "[[ 1  2  3  4]\n",
      " [ 9  0  2  3]\n",
      " [ 1  2  3 19]]\n",
      "\n",
      "Changes made to the copy b do not reflect a\n",
      "\n",
      "Original array \n",
      " [[ 1  2  3  4]\n",
      " [ 9  0  2  3]\n",
      " [ 1  2  3 19]]\n",
      "\n",
      "Copy\n",
      " [[ 1  2  3]\n",
      " [ 4  9  0]\n",
      " [ 2  3  1]\n",
      " [ 2  3 19]]\n"
     ]
    }
   ],
   "source": [
    "#ndarray.copy() method\n",
    "#It returns the deep copy of the original array which doesn't share any memory with the original array. \n",
    "#The modification made to the deep copy of the original array doesn't reflect the original array.\n",
    "a = np.array([[1,2,3,4],[9,0,2,3],[1,2,3,19]])  \n",
    "print(\"Original Array:\\n\",a)  \n",
    "print(\"\\nID of array a:\",id(a))  \n",
    "  \n",
    "b = a.copy()  \n",
    "print(\"\\nID of b:\",id(b))  \n",
    "print(\"\\nprinting the deep copy b\")  \n",
    "print(b)  \n",
    "  \n",
    "b.shape = 4,3;  \n",
    "print(\"\\nChanges made to the copy b do not reflect a\")  \n",
    "print(\"\\nOriginal array \\n\",a)  \n",
    "print(\"\\nCopy\\n\",b)  "
   ]
  },
  {
   "cell_type": "code",
   "execution_count": 92,
   "metadata": {},
   "outputs": [
    {
     "name": "stdout",
     "output_type": "stream",
     "text": [
      "[[0. 0. 0.]\n",
      " [0. 0. 0.]\n",
      " [0. 0. 0.]\n",
      " [0. 0. 0.]]\n"
     ]
    }
   ],
   "source": [
    "#numpy.matlib.empty() function\n",
    "#This function is used to return a new matrix with the uninitialized entries.\n",
    "#numpy.matlib.empty(shape, dtype, order)  \n",
    "import numpy.matlib  \n",
    "print(numpy.matlib.zeros((4,3)))  "
   ]
  },
  {
   "cell_type": "code",
   "execution_count": 93,
   "metadata": {},
   "outputs": [
    {
     "name": "stdout",
     "output_type": "stream",
     "text": [
      "[[1. 1.]\n",
      " [1. 1.]]\n"
     ]
    }
   ],
   "source": [
    "#matrix by ones\n",
    "import numpy.matlib  \n",
    "print(numpy.matlib.ones((2,2)))  "
   ]
  },
  {
   "cell_type": "code",
   "execution_count": 98,
   "metadata": {},
   "outputs": [
    {
     "name": "stdout",
     "output_type": "stream",
     "text": [
      "[[1 0 0]\n",
      " [0 1 0]\n",
      " [0 0 1]]\n",
      "[[1 0 0 0 0]\n",
      " [0 1 0 0 0]\n",
      " [0 0 1 0 0]\n",
      " [0 0 0 1 0]\n",
      " [0 0 0 0 1]]\n",
      "[[0.98709072 0.54915096 0.55368519]\n",
      " [0.64774759 0.44840062 0.68921848]\n",
      " [0.83093119 0.93655788 0.93716736]]\n"
     ]
    }
   ],
   "source": [
    "#numpy.matlib.eye() function\n",
    "#This function returns a matrix with the diagonal elements initialized to 1 and zero elsewhere.\n",
    "#numpy.matlib.eye(n, m, k, dtype)   \n",
    "print(numpy.matlib.eye(n = 3, M = 3, k = 0, dtype = int))\n",
    "      \n",
    "#numpy.matlib.identity() function\n",
    "#This function is used to return an identity matrix of the given size. An identity matrix is the one with diagonal elements initializes to 1 and all other elements to zero.\n",
    "print(numpy.matlib.identity(5, dtype = int))  \n",
    "\n",
    "#numpy.matlib.rand() function\n",
    "#This function is used to generate a matrix where all the entries are initialized with random values.\n",
    "print(numpy.matlib.rand(3,3))  \n"
   ]
  },
  {
   "cell_type": "code",
   "execution_count": 99,
   "metadata": {},
   "outputs": [
    {
     "name": "stdout",
     "output_type": "stream",
     "text": [
      "[[3400 6200]\n",
      " [ 374  712]]\n"
     ]
    }
   ],
   "source": [
    "#numpy.dot() function\n",
    "#This function is used to return the dot product of the two matrices. It is similar to the matrix multiplication.\n",
    "a = np.array([[100,200],[23,12]])  \n",
    "b = np.array([[10,20],[12,21]])  \n",
    "dot = np.dot(a,b)  \n",
    "print(dot)  "
   ]
  },
  {
   "cell_type": "code",
   "execution_count": 100,
   "metadata": {},
   "outputs": [
    {
     "name": "stdout",
     "output_type": "stream",
     "text": [
      "5528\n"
     ]
    }
   ],
   "source": [
    "#numpy.vdot() function\n",
    "#This function is used to calculate the dot product of two vectors.\n",
    "a = np.array([[100,200],[23,12]])  \n",
    "b = np.array([[10,20],[12,21]])  \n",
    "vdot = np.vdot(a,b)  \n",
    "print(vdot)  "
   ]
  },
  {
   "cell_type": "code",
   "execution_count": 101,
   "metadata": {},
   "outputs": [
    {
     "name": "stdout",
     "output_type": "stream",
     "text": [
      "130\n"
     ]
    }
   ],
   "source": [
    "#numpy.inner() function\n",
    "#This function returns the sum of the product of inner elements of the one-dimensional array. For n-dimensional arrays, it returns the sum of the product of elements over the last axis.\n",
    "a = np.array([1,2,3,4,5,6])  \n",
    "b = np.array([23,23,12,2,1,2])  \n",
    "inner = np.inner(a,b)  \n",
    "print(inner)  "
   ]
  },
  {
   "cell_type": "code",
   "execution_count": 102,
   "metadata": {},
   "outputs": [
    {
     "name": "stdout",
     "output_type": "stream",
     "text": [
      "[[ 48  49  43]\n",
      " [144 145 112]\n",
      " [240 241 181]]\n"
     ]
    }
   ],
   "source": [
    "#numpy.matmul() function\n",
    "#It is used to return the multiplication of the two matrices. It gives an error if the shape of both matrices is not aligned for multiplication.\n",
    "a = np.array([[1,2,3],[4,5,6],[7,8,9]])  \n",
    "b = np.array([[23,23,12],[2,1,2],[7,8,9]])  \n",
    "mul = np.matmul(a,b)  \n",
    "print(mul) "
   ]
  },
  {
   "cell_type": "code",
   "execution_count": 103,
   "metadata": {},
   "outputs": [
    {
     "name": "stdout",
     "output_type": "stream",
     "text": [
      "-2.0000000000000004\n"
     ]
    }
   ],
   "source": [
    "#The numpy.linalg.det() function is used to calculate the determinant of the matrix\n",
    "a = np.array([[1,2],[3,4]])  \n",
    "print(np.linalg.det(a)) "
   ]
  },
  {
   "cell_type": "code",
   "execution_count": 104,
   "metadata": {},
   "outputs": [
    {
     "name": "stdout",
     "output_type": "stream",
     "text": [
      "[[1.00000000e+00 0.00000000e+00]\n",
      " [8.32667268e-17 1.00000000e+00]]\n"
     ]
    }
   ],
   "source": [
    "#numpy.linalg.solve() function\n",
    "#This function is used to solve a quadratic equation where values can be given in the form of the matrix.\n",
    "a = np.array([[1,2],[3,4]])  \n",
    "b = np.array([[1,2],[3,4]])  \n",
    "print(np.linalg.solve(a, b)) "
   ]
  },
  {
   "cell_type": "code",
   "execution_count": 105,
   "metadata": {},
   "outputs": [
    {
     "name": "stdout",
     "output_type": "stream",
     "text": [
      "Original array:\n",
      " [[1 2]\n",
      " [3 4]]\n",
      "Inverse:\n",
      " [[-2.   1. ]\n",
      " [ 1.5 -0.5]]\n"
     ]
    }
   ],
   "source": [
    "#numpy.linalg.inv() function\n",
    "#This function is used to calculate the multiplicative inverse of the input matrix.\n",
    "a = np.array([[1,2],[3,4]])  \n",
    "print(\"Original array:\\n\",a)  \n",
    "b = np.linalg.inv(a)  \n",
    "print(\"Inverse:\\n\",b)  "
   ]
  },
  {
   "cell_type": "code",
   "execution_count": 106,
   "metadata": {},
   "outputs": [
    {
     "data": {
      "text/plain": [
       "array([[[ 9, 16, 21],\n",
       "        [24, 25, 24],\n",
       "        [21, 16,  9]]])"
      ]
     },
     "execution_count": 106,
     "metadata": {},
     "output_type": "execute_result"
    }
   ],
   "source": [
    "#Matrix multiplication\n",
    "array1=np.array([[1,2,3],[4,5,6],[7,8,9]],ndmin=3)  \n",
    "array2=np.array([[9,8,7],[6,5,4],[3,2,1]],ndmin=3)  \n",
    "result=np.multiply(array1,array2)  \n",
    "result"
   ]
  },
  {
   "cell_type": "code",
   "execution_count": null,
   "metadata": {},
   "outputs": [],
   "source": []
  }
 ],
 "metadata": {
  "kernelspec": {
   "display_name": "Python 3 (ipykernel)",
   "language": "python",
   "name": "python3"
  },
  "language_info": {
   "codemirror_mode": {
    "name": "ipython",
    "version": 3
   },
   "file_extension": ".py",
   "mimetype": "text/x-python",
   "name": "python",
   "nbconvert_exporter": "python",
   "pygments_lexer": "ipython3",
   "version": "3.9.12"
  },
  "orig_nbformat": 4
 },
 "nbformat": 4,
 "nbformat_minor": 2
}
